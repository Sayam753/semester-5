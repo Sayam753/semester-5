{
 "cells": [
  {
   "cell_type": "code",
   "execution_count": 1,
   "metadata": {},
   "outputs": [],
   "source": [
    "import numpy as np\n",
    "import pandas as pd"
   ]
  },
  {
   "cell_type": "code",
   "execution_count": 2,
   "metadata": {},
   "outputs": [],
   "source": [
    "train_df, test_df = pd.read_csv(\"train.csv\"), pd.read_csv(\"test.csv\")"
   ]
  },
  {
   "cell_type": "code",
   "execution_count": 3,
   "metadata": {},
   "outputs": [],
   "source": [
    "groups = train_df.groupby([\"4\"])\n",
    "means, stds, covs = groups.mean(), groups.std(), groups.cov()"
   ]
  },
  {
   "cell_type": "code",
   "execution_count": 4,
   "metadata": {},
   "outputs": [],
   "source": [
    "def bayes_classifier(x, mu, cov):\n",
    "    d = x.shape[0]\n",
    "    return np.exp((-1/2)*np.matmul(np.matmul((x-mu).T, np.linalg.inv(cov)), (x-mu)))/(((2*np.pi)**d/2)*np.sqrt(np.linalg.det(cov)))"
   ]
  },
  {
   "cell_type": "code",
   "execution_count": 5,
   "metadata": {},
   "outputs": [],
   "source": [
    "prior = dict()\n",
    "prior[\"Iris-setosa\"] = 0.8\n",
    "prior[\"Iris-versicolor\"] = 0.1\n",
    "prior[\"Iris-virginica\"] = 0.1"
   ]
  },
  {
   "cell_type": "code",
   "execution_count": 6,
   "metadata": {},
   "outputs": [],
   "source": [
    "def run_classifer(prob_func, dataset, means, sigmas):\n",
    "    correct_ones = 0\n",
    "    for index, row in dataset.iterrows():\n",
    "        probabilities = dict()\n",
    "        for group in groups.groups.keys():\n",
    "            probabilities[group] = prob_func(\n",
    "                row[:-1].astype('float').to_numpy(),\n",
    "                means.loc[group].to_numpy(),\n",
    "                sigmas.loc[group].to_numpy()\n",
    "            ) * prior[group]\n",
    "        if row[-1] == max(probabilities, key=probabilities.get):\n",
    "            correct_ones += 1\n",
    "\n",
    "    func_name = prob_func.__name__.replace('_', ' ').title()\n",
    "    print(f\"\\tThe accuracy of {func_name} is {correct_ones/dataset.shape[0]*100:.2f} %\")"
   ]
  },
  {
   "cell_type": "code",
   "execution_count": 7,
   "metadata": {},
   "outputs": [
    {
     "name": "stdout",
     "output_type": "stream",
     "text": [
      "For training set - \n",
      "\tThe accuracy of Bayes Classifier is 97.32 %\n",
      "\n",
      "For test set - \n",
      "\tThe accuracy of Bayes Classifier is 100.00 %\n"
     ]
    }
   ],
   "source": [
    "print(\"For training set - \")\n",
    "run_classifer(bayes_classifier, train_df, means, covs)\n",
    "\n",
    "print(\"\\nFor test set - \")\n",
    "run_classifer(bayes_classifier, test_df, means, covs)"
   ]
  }
 ],
 "metadata": {
  "kernelspec": {
   "display_name": "Python 3",
   "language": "python",
   "name": "python3"
  },
  "language_info": {
   "codemirror_mode": {
    "name": "ipython",
    "version": 3
   },
   "file_extension": ".py",
   "mimetype": "text/x-python",
   "name": "python",
   "nbconvert_exporter": "python",
   "pygments_lexer": "ipython3",
   "version": "3.8.6"
  }
 },
 "nbformat": 4,
 "nbformat_minor": 4
}
