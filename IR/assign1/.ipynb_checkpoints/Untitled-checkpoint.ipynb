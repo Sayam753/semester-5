{
 "cells": [
  {
   "cell_type": "code",
   "execution_count": 7,
   "metadata": {
    "execution": {
     "iopub.execute_input": "2020-09-05T17:28:17.541145Z",
     "iopub.status.busy": "2020-09-05T17:28:17.540748Z",
     "iopub.status.idle": "2020-09-05T17:28:17.546471Z",
     "shell.execute_reply": "2020-09-05T17:28:17.544985Z",
     "shell.execute_reply.started": "2020-09-05T17:28:17.541106Z"
    }
   },
   "outputs": [],
   "source": [
    "import re\n",
    "import os\n",
    "import json\n",
    "from collections import Counter"
   ]
  },
  {
   "cell_type": "code",
   "execution_count": 2,
   "metadata": {
    "execution": {
     "iopub.execute_input": "2020-09-05T17:18:49.117916Z",
     "iopub.status.busy": "2020-09-05T17:18:49.117356Z",
     "iopub.status.idle": "2020-09-05T17:18:49.132348Z",
     "shell.execute_reply": "2020-09-05T17:18:49.130301Z",
     "shell.execute_reply.started": "2020-09-05T17:18:49.117858Z"
    }
   },
   "outputs": [],
   "source": [
    "posting_list = dict()\n",
    "vocab = dict()\n",
    "with open(\"posting_list.json\", \"w\") as file:\n",
    "    json.dump(posting_list, file)"
   ]
  },
  {
   "cell_type": "code",
   "execution_count": 3,
   "metadata": {
    "execution": {
     "iopub.execute_input": "2020-09-05T17:18:49.143009Z",
     "iopub.status.busy": "2020-09-05T17:18:49.142196Z",
     "iopub.status.idle": "2020-09-05T17:18:49.178131Z",
     "shell.execute_reply": "2020-09-05T17:18:49.166071Z",
     "shell.execute_reply.started": "2020-09-05T17:18:49.142957Z"
    }
   },
   "outputs": [],
   "source": [
    "stop_words = (\"a\", \"about\", \"above\", \"after\", \"again\", \"against\", \"ain\", \"all\", \"am\", \"an\",\n",
    "              \"and\", \"any\", \"are\", \"aren\", \"aren't\", \"as\", \"at\", \"be\", \"because\", \"been\",\n",
    "              \"before\", \"being\", \"below\", \"between\", \"both\", \"but\", \"by\", \"can\", \"couldn\",\n",
    "              \"couldn't\", \"d\", \"did\", \"didn\", \"didn't\", \"do\", \"does\", \"doesn\", \"doesn't\",\n",
    "              \"doing\", \"don\", \"don't\", \"down\", \"during\", \"each\", \"few\", \"for\", \"from\",\n",
    "              \"further\", \"had\", \"hadn\", \"hadn't\", \"has\", \"hasn\", \"hasn't\", \"have\", \"haven\",\n",
    "              \"haven't\", \"having\", \"he\", \"her\", \"here\", \"hers\", \"herself\", \"him\", \"himself\",\n",
    "              \"his\", \"how\", \"i\", \"if\", \"in\", \"into\", \"is\", \"isn\", \"isn't\", \"it\", \"it's\", \"its\",\n",
    "              \"itself\", \"just\", \"ll\", \"m\", \"ma\", \"me\", \"mightn\", \"mightn't\", \"more\", \"most\", \n",
    "              \"mustn\", \"mustn't\", \"my\", \"myself\", \"needn\", \"needn't\", \"no\", \"nor\", \"not\", \"now\",\n",
    "              \"o\", \"of\", \"off\", \"on\", \"once\", \"only\", \"or\", \"other\", \"our\", \"ours\", \"ourselves\",\n",
    "              \"out\", \"over\", \"own\", \"re\", \"s\", \"same\", \"shan\", \"shan't\", \"she\", \"she's\", \"should\",\n",
    "              \"should've\", \"shouldn\", \"shouldn't\", \"so\", \"some\", \"such\", \"t\", \"than\", \"that\", \n",
    "              \"that'll\", \"the\", \"their\", \"theirs\", \"them\", \"themselves\", \"then\", \"there\", \"these\",\n",
    "              \"they\", \"this\", \"those\", \"through\", \"to\", \"too\", \"under\", \"until\", \"up\", \"ve\", \"very\",\n",
    "              \"was\", \"wasn\", \"wasn't\", \"we\", \"were\", \"weren\", \"weren't\", \"what\", \"when\", \"where\",\n",
    "              \"which\", \"while\", \"who\", \"whom\", \"why\", \"will\", \"with\", \"won\", \"won't\", \"wouldn\",\n",
    "              \"wouldn't\", \"y\", \"you\", \"you'd\", \"you'll\", \"you're\", \"you've\", \"your\", \"yours\",\n",
    "              \"yourself\", \"yourselves\", \"could\", \"he'd\", \"he'll\", \"he's\", \"here's\", \"how's\", \"i'd\",\n",
    "              \"i'll\", \"i'm\", \"i've\", \"let's\", \"ought\", \"she'd\", \"she'll\", \"that's\", \"there's\", \"they'd\",\n",
    "              \"they'll\", \"they're\", \"they've\", \"we'd\", \"we'll\", \"we're\", \"we've\", \"what's\", \"when's\",\n",
    "              \"where's\", \"who's\", \"why's\", \"would\")"
   ]
  },
  {
   "cell_type": "code",
   "execution_count": 4,
   "metadata": {
    "execution": {
     "iopub.execute_input": "2020-09-05T17:18:49.181581Z",
     "iopub.status.busy": "2020-09-05T17:18:49.180927Z",
     "iopub.status.idle": "2020-09-05T17:19:03.538303Z",
     "shell.execute_reply": "2020-09-05T17:19:03.537453Z",
     "shell.execute_reply.started": "2020-09-05T17:18:49.181518Z"
    }
   },
   "outputs": [],
   "source": [
    "for file_index in range(101, 282):\n",
    "    with open(f\"th-dataset/{file_index}.txt\") as file:\n",
    "        # Preprocessing\n",
    "        data = file.readlines()[0].strip()\n",
    "        data = re.sub(\"\\d+\", \"\", data)  # Remove digits\n",
    "        data = re.sub(\"[^\\w\\s]\", \" \", data)  # Remove punctuation\n",
    "        data = re.findall('[A-Za-z]+', data)  # Tokenize words\n",
    "        data_dict = Counter(data)  # Create data dict\n",
    "        \n",
    "        # Removing stop words\n",
    "        stop_words_in_data = set(data_dict).intersection(stop_words)\n",
    "        for words in stop_words_in_data:\n",
    "            del data_dict[words]\n",
    "    \n",
    "    # Update the posting list\n",
    "    with open(\"posting_list.json\", \"r\") as file:\n",
    "        posting_list = json.load(file)\n",
    "        \n",
    "        # Merging the dictionaries\n",
    "        for word, count in data_dict.items():\n",
    "            if word in posting_list:\n",
    "                posting_list[word].append((file_index, count))\n",
    "            else:\n",
    "                posting_list[word] = [(file_index, count)]\n",
    "\n",
    "    # Rewrite the posting list\n",
    "    with open(\"posting_list.json\", \"w\") as file:\n",
    "        json.dump(posting_list, file)"
   ]
  },
  {
   "cell_type": "code",
   "execution_count": 8,
   "metadata": {
    "execution": {
     "iopub.execute_input": "2020-09-05T17:28:28.991868Z",
     "iopub.status.busy": "2020-09-05T17:28:28.991400Z",
     "iopub.status.idle": "2020-09-05T17:28:29.000693Z",
     "shell.execute_reply": "2020-09-05T17:28:28.998830Z",
     "shell.execute_reply.started": "2020-09-05T17:28:28.991812Z"
    }
   },
   "outputs": [],
   "source": [
    "os.remove(\"posting_list.json\")"
   ]
  },
  {
   "cell_type": "code",
   "execution_count": 25,
   "metadata": {
    "execution": {
     "iopub.execute_input": "2020-09-05T17:38:45.092571Z",
     "iopub.status.busy": "2020-09-05T17:38:45.092217Z",
     "iopub.status.idle": "2020-09-05T17:38:45.192404Z",
     "shell.execute_reply": "2020-09-05T17:38:45.191268Z",
     "shell.execute_reply.started": "2020-09-05T17:38:45.092530Z"
    }
   },
   "outputs": [],
   "source": [
    "with open(\"output.txt\", \"w\") as file:\n",
    "    for key, value in posting_list.items():\n",
    "        data = \", \".join(map(lambda doc: f\"{doc[0]}={doc[1]}\", value))\n",
    "        data = f\"{key} ({len(value)}) ==> \" + \"{\" + data + \"}\\n\"\n",
    "        file.writelines(data)"
   ]
  },
  {
   "cell_type": "code",
   "execution_count": null,
   "metadata": {},
   "outputs": [],
   "source": [
    "def query(word):\n",
    "    if word in posting_list:\n",
    "        with open(\"output.txt\") as file:\n",
    "            \n",
    "    else:\n",
    "        print(\"Word not found in corpora.\")"
   ]
  }
 ],
 "metadata": {
  "kernelspec": {
   "display_name": "Python 3",
   "language": "python",
   "name": "python3"
  },
  "language_info": {
   "codemirror_mode": {
    "name": "ipython",
    "version": 3
   },
   "file_extension": ".py",
   "mimetype": "text/x-python",
   "name": "python",
   "nbconvert_exporter": "python",
   "pygments_lexer": "ipython3",
   "version": "3.8.5"
  }
 },
 "nbformat": 4,
 "nbformat_minor": 4
}
